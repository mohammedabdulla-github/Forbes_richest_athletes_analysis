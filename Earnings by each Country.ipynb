{
 "cells": [
  {
   "cell_type": "code",
   "execution_count": 1,
   "id": "c2eecf2d",
   "metadata": {},
   "outputs": [],
   "source": [
    "import pandas as pd\n",
    "import matplotlib.pyplot as plt"
   ]
  },
  {
   "cell_type": "code",
   "execution_count": 2,
   "id": "1fa6b79c",
   "metadata": {},
   "outputs": [],
   "source": [
    "df = pd.read_csv(\"ORIGINAL Forbes Richest Atheletes (Forbes Richest Athletes 1990-2020).csv\")"
   ]
  },
  {
   "cell_type": "code",
   "execution_count": 3,
   "id": "b593f0af",
   "metadata": {},
   "outputs": [],
   "source": [
    "df['Sport'].replace('boxing', 'Boxing', inplace=True)\n",
    "df['Sport'].replace('auto racing', 'Auto Racing', inplace=True)\n",
    "df['Sport'].replace('Auto racing', 'Auto Racing', inplace=True)\n",
    "df['Sport'].replace('basketball', 'Basketball', inplace=True)\n",
    "df['Sport'].replace('golf', 'Golf', inplace=True)\n",
    "df['Sport'].replace('NBA', 'Basketball', inplace=True)\n",
    "df['Sport'].replace('Auto Racing (Nascar)', 'NASCAR', inplace=True)\n",
    "df['Sport'].replace('soccer', 'Soccer', inplace=True)\n",
    "df['Sport'].replace('American Football / Baseball', 'American Football', inplace=True)\n",
    "df['Sport'].replace('tennis', 'Tennis', inplace=True)\n",
    "df['Sport'].replace('baseball', 'Baseball', inplace=True)"
   ]
  },
  {
   "cell_type": "code",
   "execution_count": 4,
   "id": "06391d39",
   "metadata": {},
   "outputs": [
    {
     "data": {
      "text/plain": [
       "{'Michael Jordan': 19,\n",
       " 'Tiger Woods': 19,\n",
       " 'Kobe Bryant': 14,\n",
       " 'LeBron James': 13,\n",
       " 'Michael Schumacher': 13,\n",
       " 'Roger Federer': 12,\n",
       " 'Phil Mickelson': 11,\n",
       " 'Cristiano Ronaldo': 10,\n",
       " 'David Beckham': 9,\n",
       " \"Shaquille O'Neal\": 9,\n",
       " 'Lionel Messi': 9,\n",
       " 'Mike Tyson': 8,\n",
       " 'Evander Holyfield': 7,\n",
       " 'Oscar De La Hoya': 7,\n",
       " 'Andre Agassi': 6,\n",
       " 'Arnold Palmer': 6,\n",
       " 'Grant Hill': 6,\n",
       " 'Kevin Durant': 5,\n",
       " 'Floyd Mayweather': 5,\n",
       " 'Manny Pacquiao': 4,\n",
       " 'Dale Earnhardt': 4,\n",
       " \"Shaq O'Neal\": 4,\n",
       " 'Valentino Rossi': 4,\n",
       " 'Lennox Lewis': 4,\n",
       " 'Stephen Curry': 4,\n",
       " 'Sugar Ray Leonard': 4,\n",
       " 'Alex Rodriguez': 4,\n",
       " 'Kevin Garnett': 4,\n",
       " 'Ayrton Senna': 4,\n",
       " 'Nigel Mansell': 3,\n",
       " 'Alain Prost': 3,\n",
       " 'Kimi Raikkonen': 3,\n",
       " 'Neymar': 3,\n",
       " 'George Foreman': 3,\n",
       " 'Matt Ryan': 2,\n",
       " 'Jim Courier': 2,\n",
       " 'Joe Montana': 2,\n",
       " 'Patrick Ewing': 2,\n",
       " 'Ronaldinho': 2,\n",
       " 'Jack Nicklaus': 2,\n",
       " 'Wayne Gretzky': 2,\n",
       " 'Peyton Manning': 2,\n",
       " 'Jacques Villeneuve': 2,\n",
       " 'Riddick Bowe': 2,\n",
       " 'Lewis Hamilton': 1,\n",
       " 'Deion Sanders': 1,\n",
       " 'Aaron Rogers': 1,\n",
       " 'Matthew Stafford': 1,\n",
       " 'Muhammad Ali': 1,\n",
       " 'Dennis Rodman': 1,\n",
       " 'Lance Armstrong': 1,\n",
       " 'Carson Wentz': 1,\n",
       " 'Jordan Spieth': 1,\n",
       " 'Rory McIlroy': 1,\n",
       " 'Michael Vick': 1,\n",
       " 'Terrell Suggs': 1,\n",
       " 'Gary Sheffield': 1,\n",
       " 'Greg Norman': 1,\n",
       " 'Gerhard Berger': 1,\n",
       " 'Novak Djokovic': 1,\n",
       " 'Conor McGregor': 1,\n",
       " 'Sergei Federov': 1,\n",
       " 'Andrew Luck': 1,\n",
       " 'Donovan \"Razor\" Ruddock': 1,\n",
       " 'Joe Sakic': 1,\n",
       " 'Michael Moorer': 1,\n",
       " 'Tom Brady': 1,\n",
       " 'Buster Douglas': 1,\n",
       " 'Eli Manning': 1,\n",
       " 'Dale Earnhardt Jr.': 1,\n",
       " 'Rafael Nadal': 1,\n",
       " 'Cecil Fielder': 1,\n",
       " 'Russell Wilson': 1,\n",
       " 'Aaron Rodgers': 1,\n",
       " 'Monica Seles': 1,\n",
       " 'Emmit Smith': 1,\n",
       " 'Canelo Alvarez': 1,\n",
       " 'Jeff Gordon': 1,\n",
       " 'Drew Brees': 1,\n",
       " 'James Harden': 1,\n",
       " 'Cam Newton': 1,\n",
       " 'Kirk Cousins': 1}"
      ]
     },
     "execution_count": 4,
     "metadata": {},
     "output_type": "execute_result"
    }
   ],
   "source": [
    "x=df['Name'].value_counts()\n",
    "x.to_dict()"
   ]
  },
  {
   "cell_type": "code",
   "execution_count": 5,
   "id": "d0a2a595",
   "metadata": {
    "scrolled": true
   },
   "outputs": [
    {
     "data": {
      "text/plain": [
       "USA                 206\n",
       "Germany              13\n",
       "UK                   13\n",
       "Switzerland          12\n",
       "Portugal             10\n",
       "Brazil                9\n",
       "Argentina             9\n",
       "Canada                6\n",
       "Italy                 4\n",
       "Philippines           3\n",
       "France                3\n",
       "Finland               3\n",
       "Dominican             1\n",
       "Mexico                1\n",
       "Ireland               1\n",
       "Filipino              1\n",
       "Russia                1\n",
       "Austria               1\n",
       "Australia             1\n",
       "Spain                 1\n",
       "Northern Ireland      1\n",
       "Serbia                1\n",
       "Name: Nationality, dtype: int64"
      ]
     },
     "execution_count": 5,
     "metadata": {},
     "output_type": "execute_result"
    }
   ],
   "source": [
    "df.Nationality.value_counts()"
   ]
  },
  {
   "cell_type": "code",
   "execution_count": 6,
   "id": "330fabef",
   "metadata": {
    "scrolled": true
   },
   "outputs": [
    {
     "data": {
      "text/plain": [
       "Basketball           82\n",
       "Boxing               46\n",
       "Golf                 44\n",
       "Soccer               33\n",
       "Tennis               23\n",
       "Auto Racing          18\n",
       "American Football    18\n",
       "F1 racing             8\n",
       "Baseball              6\n",
       "F1 Motorsports        5\n",
       "NASCAR                5\n",
       "motorcycle gp         4\n",
       "NFL                   3\n",
       "Ice Hockey            2\n",
       "ice hockey            1\n",
       "MMA                   1\n",
       "cycling               1\n",
       "Hockey                1\n",
       "Name: Sport, dtype: int64"
      ]
     },
     "execution_count": 6,
     "metadata": {},
     "output_type": "execute_result"
    }
   ],
   "source": [
    "df['Sport'].value_counts()"
   ]
  },
  {
   "cell_type": "code",
   "execution_count": 7,
   "id": "d95d6cb6",
   "metadata": {},
   "outputs": [],
   "source": [
    "max_earnings_per_country = df.groupby('Nationality')['Earnings'].max()"
   ]
  },
  {
   "cell_type": "code",
   "execution_count": 8,
   "id": "a12b65ee",
   "metadata": {
    "scrolled": false
   },
   "outputs": [
    {
     "data": {
      "text/plain": [
       "Year\n",
       "1990     28.6\n",
       "1991     60.5\n",
       "1992     35.9\n",
       "1993     36.0\n",
       "1994     30.0\n",
       "1995     43.9\n",
       "1996     75.0\n",
       "1997     78.3\n",
       "1998     69.0\n",
       "1999     49.0\n",
       "2000     59.0\n",
       "2002     69.0\n",
       "2003     78.0\n",
       "2004     80.3\n",
       "2005     87.0\n",
       "2006     90.0\n",
       "2007    100.0\n",
       "2008    115.0\n",
       "2009    110.0\n",
       "2010    105.0\n",
       "2011     75.0\n",
       "2012     85.0\n",
       "2013     78.1\n",
       "2014    105.0\n",
       "2015    300.0\n",
       "2016     88.0\n",
       "2017     93.0\n",
       "2018    285.0\n",
       "2019    127.0\n",
       "2020    106.3\n",
       "Name: Earnings, dtype: float64"
      ]
     },
     "execution_count": 8,
     "metadata": {},
     "output_type": "execute_result"
    }
   ],
   "source": [
    "df.groupby(df[\"Year\"])[\"Earnings\"].max()"
   ]
  },
  {
   "cell_type": "code",
   "execution_count": 9,
   "id": "c55694ca",
   "metadata": {},
   "outputs": [
    {
     "data": {
      "text/plain": [
       "[]"
      ]
     },
     "execution_count": 9,
     "metadata": {},
     "output_type": "execute_result"
    },
    {
     "data": {
      "image/png": "[encoded data removed]",
      "text/plain": [
       "<Figure size 432x288 with 1 Axes>"
      ]
     },
     "metadata": {
      "needs_background": "light"
     },
     "output_type": "display_data"
    }
   ],
   "source": [
    "plt.bar(max_earnings_per_country.index, max_earnings_per_country.values)\n",
    "plt.xticks(rotation=90)\n",
    "plt.title(\"Earning by each Country\")\n",
    "plt.xlabel(\"Country\")\n",
    "plt.ylabel(\"Earnings in Million\")\n",
    "plt.plot()"
   ]
  }
 ],
 "metadata": {
  "kernelspec": {
   "display_name": "Python 3",
   "language": "python",
   "name": "python3"
  },
  "language_info": {
   "codemirror_mode": {
    "name": "ipython",
    "version": 3
   },
   "file_extension": ".py",
   "mimetype": "text/x-python",
   "name": "python",
   "nbconvert_exporter": "python",
   "pygments_lexer": "ipython3",
   "version": "3.8.8"
  }
 },
 "nbformat": 4,
 "nbformat_minor": 5
}
